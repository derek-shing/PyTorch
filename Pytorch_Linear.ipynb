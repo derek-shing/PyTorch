{
  "nbformat": 4,
  "nbformat_minor": 0,
  "metadata": {
    "colab": {
      "name": "Pytorch_Linear.ipynb",
      "provenance": [],
      "authorship_tag": "ABX9TyNcfzZnHBe/Ukap6B+/XNI1",
      "include_colab_link": true
    },
    "kernelspec": {
      "name": "python3",
      "display_name": "Python 3"
    },
    "language_info": {
      "name": "python"
    }
  },
  "cells": [
    {
      "cell_type": "markdown",
      "metadata": {
        "id": "view-in-github",
        "colab_type": "text"
      },
      "source": [
        "<a href=\"https://colab.research.google.com/github/derek-shing/PyTorch/blob/main/Pytorch_Linear.ipynb\" target=\"_parent\"><img src=\"https://colab.research.google.com/assets/colab-badge.svg\" alt=\"Open In Colab\"/></a>"
      ]
    },
    {
      "cell_type": "code",
      "metadata": {
        "id": "FFFZKETZX5x3"
      },
      "source": [
        "import torch\n",
        "import torch.nn as nn\n",
        "import numpy as np\n",
        "import matplotlib.pyplot as plt"
      ],
      "execution_count": 2,
      "outputs": []
    },
    {
      "cell_type": "code",
      "metadata": {
        "id": "V6-a_bv9Y27Q"
      },
      "source": [
        "#Generate data\n",
        "N = 20 #number of samples\n",
        "X = np.random.random(N)*10 -5\n",
        "Y = 0.5 * X - 1 + np.random.randn(N)\n"
      ],
      "execution_count": 9,
      "outputs": []
    },
    {
      "cell_type": "code",
      "metadata": {
        "colab": {
          "base_uri": "https://localhost:8080/"
        },
        "id": "nF-enGLzZGzi",
        "outputId": "edcdc689-81aa-4c8b-fdeb-7b03773cdfcd"
      },
      "source": [
        "X,Y"
      ],
      "execution_count": 11,
      "outputs": [
        {
          "output_type": "execute_result",
          "data": {
            "text/plain": [
              "(array([-1.95245415, -0.24357785, -0.66536716, -1.41973161,  1.47812953,\n",
              "         1.78693653, -1.21027359,  1.91566268, -2.50939792,  0.33277758,\n",
              "         2.2282477 , -4.25025611, -2.32666368,  1.98439233, -1.9542038 ,\n",
              "         4.41872161,  4.90201173, -1.08745228, -2.74799802, -2.23954135]),\n",
              " array([-3.38325983, -0.65488915, -0.04971329,  1.22083203, -0.16151594,\n",
              "         0.19601754, -1.36517944, -0.4104075 , -2.72144659, -1.35235463,\n",
              "         2.68803458, -3.36391453, -1.91036575, -0.29353491, -1.62444084,\n",
              "         1.27073299,  1.06538881, -2.80940312, -3.67332451, -1.81273595]))"
            ]
          },
          "metadata": {
            "tags": []
          },
          "execution_count": 11
        }
      ]
    },
    {
      "cell_type": "code",
      "metadata": {
        "colab": {
          "base_uri": "https://localhost:8080/",
          "height": 286
        },
        "id": "zq6x7PzAZhmJ",
        "outputId": "95c75fa6-044a-400a-ce8e-5ee440f8d6db"
      },
      "source": [
        "plt.scatter(X,Y)"
      ],
      "execution_count": 12,
      "outputs": [
        {
          "output_type": "execute_result",
          "data": {
            "text/plain": [
              "<matplotlib.collections.PathCollection at 0x7f25321aaed0>"
            ]
          },
          "metadata": {
            "tags": []
          },
          "execution_count": 12
        },
        {
          "output_type": "display_data",
          "data": {
            "image/png": "[encoded data removed]",
            "text/plain": [
              "<Figure size 432x288 with 1 Axes>"
            ]
          },
          "metadata": {
            "tags": [],
            "needs_background": "light"
          }
        }
      ]
    },
    {
      "cell_type": "code",
      "metadata": {
        "id": "m1Xkj8j1UtCI"
      },
      "source": [
        "#Building model\n",
        "model = nn.Linear(1,1) #(1,1) is the input and output size"
      ],
      "execution_count": 17,
      "outputs": []
    },
    {
      "cell_type": "code",
      "metadata": {
        "id": "_YqWgpAbVhyQ"
      },
      "source": [
        "#Train the model\n",
        "#Loss and optimizer\n",
        "criterion = nn.MSELoss()\n",
        "optimizer = torch.optim.SGD(model.parameters(),lr=0.1)"
      ],
      "execution_count": 18,
      "outputs": []
    },
    {
      "cell_type": "code",
      "metadata": {
        "colab": {
          "base_uri": "https://localhost:8080/"
        },
        "id": "u8xBcQr9XiaZ",
        "outputId": "819c6306-9dc9-4d3a-dad4-a7020f07b21c"
      },
      "source": [
        "#Prepare data to pass to Pytorch\n",
        "\n",
        "X.shape"
      ],
      "execution_count": 15,
      "outputs": [
        {
          "output_type": "execute_result",
          "data": {
            "text/plain": [
              "(20,)"
            ]
          },
          "metadata": {
            "tags": []
          },
          "execution_count": 15
        }
      ]
    },
    {
      "cell_type": "code",
      "metadata": {
        "id": "b1A8UAVfaM_0"
      },
      "source": [
        "X = X.reshape(N,1)\n",
        "Y = Y.reshape(N,1)"
      ],
      "execution_count": 19,
      "outputs": []
    },
    {
      "cell_type": "code",
      "metadata": {
        "id": "m3gUPTokadF9"
      },
      "source": [
        "inputs = torch.from_numpy(X.astype(np.float32))\n",
        "targets = torch.from_numpy(Y.astype(np.float32))"
      ],
      "execution_count": 20,
      "outputs": []
    },
    {
      "cell_type": "code",
      "metadata": {
        "id": "ggtTCTOPV6Im"
      },
      "source": [
        "n_epochs = 30\n",
        "losses =[]\n",
        "\n",
        "for i in range(n_epochs):\n",
        "  optimizer.zero_grad()\n",
        "  outputs = model(inputs)\n",
        "  loss = criterion(outputs, targets)\n",
        "\n",
        "  losses.append(loss.item())\n",
        "\n",
        "  loss.backward()\n",
        "  optimizer.step()"
      ],
      "execution_count": 21,
      "outputs": []
    },
    {
      "cell_type": "code",
      "metadata": {
        "colab": {
          "base_uri": "https://localhost:8080/",
          "height": 282
        },
        "id": "uiuAZAUocDfG",
        "outputId": "bb127493-f268-4a36-fc9e-681dd40c96aa"
      },
      "source": [
        "plt.plot(losses)"
      ],
      "execution_count": 22,
      "outputs": [
        {
          "output_type": "execute_result",
          "data": {
            "text/plain": [
              "[<matplotlib.lines.Line2D at 0x7f252dcbf210>]"
            ]
          },
          "metadata": {
            "tags": []
          },
          "execution_count": 22
        },
        {
          "output_type": "display_data",
          "data": {
            "image/png": "[encoded data removed]",
            "text/plain": [
              "<Figure size 432x288 with 1 Axes>"
            ]
          },
          "metadata": {
            "tags": [],
            "needs_background": "light"
          }
        }
      ]
    },
    {
      "cell_type": "code",
      "metadata": {
        "id": "gEtpuYPkcMc8"
      },
      "source": [
        ""
      ],
      "execution_count": null,
      "outputs": []
    }
  ]
}